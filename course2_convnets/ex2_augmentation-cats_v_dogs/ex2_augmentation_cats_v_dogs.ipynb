{
  "nbformat": 4,
  "nbformat_minor": 0,
  "metadata": {
    "colab": {
      "name": "ex2_augmentation-cats_v_dogs.ipynb",
      "provenance": [],
      "collapsed_sections": []
    },
    "kernelspec": {
      "name": "python3",
      "display_name": "Python 3"
    },
    "accelerator": "GPU"
  },
  "cells": [
    {
      "cell_type": "markdown",
      "metadata": {
        "id": "shdTKPHU_wDy"
      },
      "source": [
        "In this exercise you will train a CNN on the FULL Cats-v-dogs dataset. This will require you doing a lot of data preprocessing because the dataset isn't split into training and validation for you."
      ]
    },
    {
      "cell_type": "code",
      "metadata": {
        "id": "B0kAicIw_fks"
      },
      "source": [
        "import os\n",
        "import zipfile\n",
        "import random\n",
        "import tensorflow as tf\n",
        "from tensorflow import keras\n",
        "from tensorflow.keras.optimizers import RMSprop\n",
        "from tensorflow.keras.preprocessing.image import ImageDataGenerator\n",
        "from shutil import copyfile"
      ],
      "execution_count": 1,
      "outputs": []
    },
    {
      "cell_type": "markdown",
      "metadata": {
        "id": "vVVW72saAsPS"
      },
      "source": [
        "# Data Preparation"
      ]
    },
    {
      "cell_type": "markdown",
      "metadata": {
        "id": "63e0iohEA7hH"
      },
      "source": [
        "## 1. Download and extract the data"
      ]
    },
    {
      "cell_type": "code",
      "metadata": {
        "colab": {
          "base_uri": "https://localhost:8080/"
        },
        "id": "xPVuG51I_0M5",
        "outputId": "47c381d7-b948-41a8-938f-2b73fde5a9e9"
      },
      "source": [
        "!wget --no-check-certificate \\\n",
        "    \"https://download.microsoft.com/download/3/E/1/3E1C3F21-ECDB-4869-8368-6DEBA77B919F/kagglecatsanddogs_3367a.zip\" \\\n",
        "    -O \"/tmp/cats-and-dogs.zip\"\n",
        "\n",
        "local_zip = '/tmp/cats-and-dogs.zip'\n",
        "zip_ref = zipfile.ZipFile(local_zip, 'r')\n",
        "zip_ref.extractall('/tmp')\n",
        "zip_ref.close()\n"
      ],
      "execution_count": 2,
      "outputs": [
        {
          "output_type": "stream",
          "text": [
            "--2020-12-07 07:38:19--  https://download.microsoft.com/download/3/E/1/3E1C3F21-ECDB-4869-8368-6DEBA77B919F/kagglecatsanddogs_3367a.zip\n",
            "Resolving download.microsoft.com (download.microsoft.com)... 23.219.32.233, 2600:1417:76:293::e59, 2600:1417:76:2aa::e59\n",
            "Connecting to download.microsoft.com (download.microsoft.com)|23.219.32.233|:443... connected.\n",
            "HTTP request sent, awaiting response... 200 OK\n",
            "Length: 824894548 (787M) [application/octet-stream]\n",
            "Saving to: ‘/tmp/cats-and-dogs.zip’\n",
            "\n",
            "/tmp/cats-and-dogs. 100%[===================>] 786.68M   165MB/s    in 4.8s    \n",
            "\n",
            "2020-12-07 07:38:24 (165 MB/s) - ‘/tmp/cats-and-dogs.zip’ saved [824894548/824894548]\n",
            "\n"
          ],
          "name": "stdout"
        }
      ]
    },
    {
      "cell_type": "code",
      "metadata": {
        "colab": {
          "base_uri": "https://localhost:8080/"
        },
        "id": "yqO78VynA-3v",
        "outputId": "c84e9457-7a9f-4cc1-a46c-6a926b0a96da"
      },
      "source": [
        "print(len(os.listdir('/tmp/PetImages/Cat/')))\n",
        "print(len(os.listdir('/tmp/PetImages/Dog/')))\n"
      ],
      "execution_count": 3,
      "outputs": [
        {
          "output_type": "stream",
          "text": [
            "12501\n",
            "12501\n"
          ],
          "name": "stdout"
        }
      ]
    },
    {
      "cell_type": "markdown",
      "metadata": {
        "id": "5BbvKc7gBCXc"
      },
      "source": [
        "## 2. Create directories for train-test dataset"
      ]
    },
    {
      "cell_type": "code",
      "metadata": {
        "id": "VbqFN9HJBIY3"
      },
      "source": [
        "try:\n",
        "  # we have to build this from parent to child directories\n",
        "  os.mkdir('/tmp/cats-v-dogs')\n",
        "\n",
        "  os.mkdir('/tmp/cats-v-dogs/training')\n",
        "  os.mkdir('/tmp/cats-v-dogs/testing')\n",
        "\n",
        "  os.mkdir('/tmp/cats-v-dogs/training/cats')\n",
        "  os.mkdir('/tmp/cats-v-dogs/training/dogs')\n",
        "\n",
        "  os.mkdir('/tmp/cats-v-dogs/testing/cats')\n",
        "  os.mkdir('/tmp/cats-v-dogs/testing/dogs')\n",
        "\n",
        "except OSError:\n",
        "  pass"
      ],
      "execution_count": 4,
      "outputs": []
    },
    {
      "cell_type": "markdown",
      "metadata": {
        "id": "6FKQGDWhBo-B"
      },
      "source": [
        "## 3. Split Source data to Train-Test data"
      ]
    },
    {
      "cell_type": "code",
      "metadata": {
        "id": "7XR7V6oFBwF4"
      },
      "source": [
        "def split_data(SOURCE_DIR, TRAINING_DIR, TESTING_DIR, SPLIT_SIZE):\n",
        "  fnames_raw = os.listdir(SOURCE_DIR)\n",
        "  fnames_shuffled = random.sample(fnames_raw, len(fnames_raw))\n",
        "\n",
        "  # clean\n",
        "  # fget uncorrupted data only\n",
        "  fnames = []\n",
        "  for fname in fnames_shuffled:\n",
        "    if os.path.getsize(SOURCE_DIR +fname) !=0:\n",
        "      fnames.append(fname)\n",
        "  \n",
        "  # split fnames\n",
        "  train_fnames = fnames[:int(len(fnames)*SPLIT_SIZE)]\n",
        "  test_fnames = fnames[int(len(fnames)*SPLIT_SIZE):]\n",
        "\n",
        "  # transfer via copying files\n",
        "  for fname in train_fnames:\n",
        "    copyfile(SOURCE_DIR + fname, TRAINING_DIR + fname)\n",
        "\n",
        "  for fname in test_fnames:\n",
        "    copyfile(SOURCE_DIR + fname, TESTING_DIR + fname)\n",
        "\n",
        "split_size = 0.9\n",
        "\n",
        "CAT_SOURCE_DIR = '/tmp/PetImages/Cat/'\n",
        "CAT_TRAINING_DIR = '/tmp/cats-v-dogs/training/cats/'\n",
        "CAT_TESTING_DIR = '/tmp/cats-v-dogs/testing/cats/'\n",
        "\n",
        "DOG_SOURCE_DIR = '/tmp/PetImages/Dog/' \n",
        "DOG_TRAINING_DIR = '/tmp/cats-v-dogs/training/dogs/'\n",
        "DOG_TESTING_DIR = '/tmp/cats-v-dogs/testing/dogs/'\n",
        "\n",
        "split_data(CAT_SOURCE_DIR, CAT_TRAINING_DIR, CAT_TESTING_DIR, split_size)\n",
        "split_data(DOG_SOURCE_DIR, DOG_TRAINING_DIR, DOG_TESTING_DIR, split_size)"
      ],
      "execution_count": 5,
      "outputs": []
    },
    {
      "cell_type": "code",
      "metadata": {
        "colab": {
          "base_uri": "https://localhost:8080/"
        },
        "id": "DB2OuRcvD9IK",
        "outputId": "007209d2-f487-4a63-9e5a-f71b168a4dac"
      },
      "source": [
        "print(len(os.listdir('/tmp/cats-v-dogs/training/cats/')))\n",
        "print(len(os.listdir('/tmp/cats-v-dogs/training/dogs/')))\n",
        "print(len(os.listdir('/tmp/cats-v-dogs/testing/cats/')))\n",
        "print(len(os.listdir('/tmp/cats-v-dogs/testing/dogs/')))"
      ],
      "execution_count": 6,
      "outputs": [
        {
          "output_type": "stream",
          "text": [
            "11250\n",
            "11250\n",
            "1250\n",
            "1250\n"
          ],
          "name": "stdout"
        }
      ]
    },
    {
      "cell_type": "markdown",
      "metadata": {
        "id": "G9TTe8d2ENMR"
      },
      "source": [
        "## 4. Train and Valid ImageDataGenerator"
      ]
    },
    {
      "cell_type": "code",
      "metadata": {
        "colab": {
          "base_uri": "https://localhost:8080/"
        },
        "id": "MJQV-TkSEZTK",
        "outputId": "61bd23d9-2ac4-4206-cff7-652f0523a892"
      },
      "source": [
        "TRAIN_DIR = \"/tmp/cats-v-dogs/training/\"\n",
        "train_datagen = ImageDataGenerator(\n",
        "    rescale = 1./255,\n",
        "    rotation_range=40,\n",
        "    width_shift_range=0.2,\n",
        "    height_shift_range=0.2,\n",
        "    shear_range=0.2,\n",
        "    zoom_range=0.2,\n",
        "    horizontal_flip=True,\n",
        "    fill_mode='nearest'\n",
        ")\n",
        "train_generator = train_datagen.flow_from_directory(\n",
        "    TRAIN_DIR, \n",
        "    batch_size = 10,\n",
        "    target_size = (300, 300),\n",
        "    class_mode = \"binary\"\n",
        ")\n",
        "\n",
        "VALID_DIR = \"/tmp/cats-v-dogs/testing/\"\n",
        "valid_datagen = ImageDataGenerator(rescale=1./255)\n",
        "valid_generator = valid_datagen.flow_from_directory(\n",
        "    VALID_DIR,\n",
        "    batch_size = 10,\n",
        "    target_size = (300, 300),\n",
        "    class_mode = \"binary\"\n",
        ")"
      ],
      "execution_count": 7,
      "outputs": [
        {
          "output_type": "stream",
          "text": [
            "Found 22498 images belonging to 2 classes.\n",
            "Found 2500 images belonging to 2 classes.\n"
          ],
          "name": "stdout"
        }
      ]
    },
    {
      "cell_type": "markdown",
      "metadata": {
        "id": "y0hrzqhsF5LA"
      },
      "source": [
        "# Model"
      ]
    },
    {
      "cell_type": "markdown",
      "metadata": {
        "id": "fccy5sZ0F7N_"
      },
      "source": [
        "## 1. Build the Model"
      ]
    },
    {
      "cell_type": "code",
      "metadata": {
        "id": "_57aeaLFGHzN"
      },
      "source": [
        "model = keras.models.Sequential([\n",
        "                                 keras.layers.Conv2D(16, (3,3), activation=\"relu\", input_shape=(300,300, 3)),\n",
        "                                 keras.layers.MaxPooling2D(2,2),\n",
        "                                 keras.layers.Conv2D(32, (3,3), activation=\"relu\"),\n",
        "                                 keras.layers.MaxPooling2D(2,2),\n",
        "                                 keras.layers.Conv2D(64, (3,3), activation=\"relu\"),\n",
        "                                 keras.layers.MaxPooling2D(2,2),\n",
        "                                 keras.layers.Conv2D(64, (3,3), activation=\"relu\"),\n",
        "                                 keras.layers.MaxPooling2D(2,2),\n",
        "                                 keras.layers.Conv2D(64, (3,3), activation=\"relu\"),\n",
        "                                 keras.layers.MaxPooling2D(2,2),\n",
        "\n",
        "                                 keras.layers.Flatten(),\n",
        "                                 keras.layers.Dense(512, activation = \"relu\"),\n",
        "                                 keras.layers.Dense(128, activation=\"relu\"),\n",
        "                                 keras.layers.Dense(128, activation=\"relu\"),\n",
        "                                 keras.layers.Dense(64, activation=\"relu\"),\n",
        "                                 keras.layers.Dense(1, activation=\"sigmoid\"),\n",
        "])"
      ],
      "execution_count": 8,
      "outputs": []
    },
    {
      "cell_type": "markdown",
      "metadata": {
        "id": "_G1JI3BxF81S"
      },
      "source": [
        "## 2. Compile the Model"
      ]
    },
    {
      "cell_type": "code",
      "metadata": {
        "id": "6zLl8LKgG7Uy"
      },
      "source": [
        "model.compile(loss = \"binary_crossentropy\", optimizer = RMSprop(lr=0.001), metrics=[\"accuracy\"])"
      ],
      "execution_count": 9,
      "outputs": []
    },
    {
      "cell_type": "markdown",
      "metadata": {
        "id": "m3mN--CVGAeM"
      },
      "source": [
        "## 3. Fit the model"
      ]
    },
    {
      "cell_type": "code",
      "metadata": {
        "colab": {
          "base_uri": "https://localhost:8080/"
        },
        "id": "S7YcYoDhHF3Z",
        "outputId": "6098467e-dd20-413c-8077-6ce0b1a15e46"
      },
      "source": [
        "history = model.fit(\n",
        "    train_generator,\n",
        "    epochs = 15,\n",
        "    verbose =2,\n",
        "    validation_data = valid_generator\n",
        ")"
      ],
      "execution_count": 10,
      "outputs": [
        {
          "output_type": "stream",
          "text": [
            "Epoch 1/15\n"
          ],
          "name": "stdout"
        },
        {
          "output_type": "stream",
          "text": [
            "/usr/local/lib/python3.6/dist-packages/PIL/TiffImagePlugin.py:770: UserWarning: Possibly corrupt EXIF data.  Expecting to read 32 bytes but only got 0. Skipping tag 270\n",
            "  \" Skipping tag %s\" % (size, len(data), tag)\n",
            "/usr/local/lib/python3.6/dist-packages/PIL/TiffImagePlugin.py:770: UserWarning: Possibly corrupt EXIF data.  Expecting to read 5 bytes but only got 0. Skipping tag 271\n",
            "  \" Skipping tag %s\" % (size, len(data), tag)\n",
            "/usr/local/lib/python3.6/dist-packages/PIL/TiffImagePlugin.py:770: UserWarning: Possibly corrupt EXIF data.  Expecting to read 8 bytes but only got 0. Skipping tag 272\n",
            "  \" Skipping tag %s\" % (size, len(data), tag)\n",
            "/usr/local/lib/python3.6/dist-packages/PIL/TiffImagePlugin.py:770: UserWarning: Possibly corrupt EXIF data.  Expecting to read 8 bytes but only got 0. Skipping tag 282\n",
            "  \" Skipping tag %s\" % (size, len(data), tag)\n",
            "/usr/local/lib/python3.6/dist-packages/PIL/TiffImagePlugin.py:770: UserWarning: Possibly corrupt EXIF data.  Expecting to read 8 bytes but only got 0. Skipping tag 283\n",
            "  \" Skipping tag %s\" % (size, len(data), tag)\n",
            "/usr/local/lib/python3.6/dist-packages/PIL/TiffImagePlugin.py:770: UserWarning: Possibly corrupt EXIF data.  Expecting to read 20 bytes but only got 0. Skipping tag 306\n",
            "  \" Skipping tag %s\" % (size, len(data), tag)\n",
            "/usr/local/lib/python3.6/dist-packages/PIL/TiffImagePlugin.py:770: UserWarning: Possibly corrupt EXIF data.  Expecting to read 48 bytes but only got 0. Skipping tag 532\n",
            "  \" Skipping tag %s\" % (size, len(data), tag)\n",
            "/usr/local/lib/python3.6/dist-packages/PIL/TiffImagePlugin.py:788: UserWarning: Corrupt EXIF data.  Expecting to read 2 bytes but only got 0. \n",
            "  warnings.warn(str(msg))\n"
          ],
          "name": "stderr"
        },
        {
          "output_type": "stream",
          "text": [
            "2250/2250 - 457s - loss: 0.6722 - accuracy: 0.5966 - val_loss: 0.5734 - val_accuracy: 0.7436\n",
            "Epoch 2/15\n",
            "2250/2250 - 445s - loss: 0.6162 - accuracy: 0.6785 - val_loss: 0.5954 - val_accuracy: 0.7356\n",
            "Epoch 3/15\n",
            "2250/2250 - 440s - loss: 0.5992 - accuracy: 0.6998 - val_loss: 0.4779 - val_accuracy: 0.7660\n",
            "Epoch 4/15\n",
            "2250/2250 - 440s - loss: 0.5836 - accuracy: 0.7214 - val_loss: 0.4626 - val_accuracy: 0.7988\n",
            "Epoch 5/15\n",
            "2250/2250 - 441s - loss: 0.5755 - accuracy: 0.7268 - val_loss: 0.4603 - val_accuracy: 0.8076\n",
            "Epoch 6/15\n",
            "2250/2250 - 441s - loss: 0.5700 - accuracy: 0.7329 - val_loss: 0.4945 - val_accuracy: 0.7636\n",
            "Epoch 7/15\n",
            "2250/2250 - 444s - loss: 0.5725 - accuracy: 0.7374 - val_loss: 0.4843 - val_accuracy: 0.8096\n",
            "Epoch 8/15\n",
            "2250/2250 - 445s - loss: 0.5983 - accuracy: 0.7200 - val_loss: 0.5249 - val_accuracy: 0.7604\n",
            "Epoch 9/15\n",
            "2250/2250 - 453s - loss: 0.5935 - accuracy: 0.7234 - val_loss: 0.9486 - val_accuracy: 0.7856\n",
            "Epoch 10/15\n",
            "2250/2250 - 465s - loss: 0.6886 - accuracy: 0.7217 - val_loss: 0.4773 - val_accuracy: 0.8000\n",
            "Epoch 11/15\n",
            "2250/2250 - 457s - loss: 0.5698 - accuracy: 0.7441 - val_loss: 0.5292 - val_accuracy: 0.7692\n",
            "Epoch 12/15\n",
            "2250/2250 - 461s - loss: 0.5911 - accuracy: 0.7499 - val_loss: 0.4597 - val_accuracy: 0.7948\n",
            "Epoch 13/15\n",
            "2250/2250 - 461s - loss: 0.6393 - accuracy: 0.7044 - val_loss: 0.7531 - val_accuracy: 0.5000\n",
            "Epoch 14/15\n",
            "2250/2250 - 459s - loss: 0.7040 - accuracy: 0.5000 - val_loss: 0.6932 - val_accuracy: 0.5000\n",
            "Epoch 15/15\n",
            "2250/2250 - 474s - loss: 0.6932 - accuracy: 0.4969 - val_loss: 0.6931 - val_accuracy: 0.5000\n"
          ],
          "name": "stdout"
        }
      ]
    },
    {
      "cell_type": "markdown",
      "metadata": {
        "id": "JMOeq3ckGEiG"
      },
      "source": [
        "## 4. Plot loss and accuracy"
      ]
    },
    {
      "cell_type": "code",
      "metadata": {
        "colab": {
          "base_uri": "https://localhost:8080/"
        },
        "id": "9KXkNLJPI-mr",
        "outputId": "0732dd60-d2ca-46b0-dd5c-1e44bfba0be2"
      },
      "source": [
        "type(history)"
      ],
      "execution_count": 11,
      "outputs": [
        {
          "output_type": "execute_result",
          "data": {
            "text/plain": [
              "tensorflow.python.keras.callbacks.History"
            ]
          },
          "metadata": {
            "tags": []
          },
          "execution_count": 11
        }
      ]
    },
    {
      "cell_type": "code",
      "metadata": {
        "colab": {
          "base_uri": "https://localhost:8080/",
          "height": 544
        },
        "id": "GC0lG5ybHg4g",
        "outputId": "d9a203f4-2700-442b-8905-04f818dc9573"
      },
      "source": [
        "%matplotlib inline\n",
        "import matplotlib.pyplot as plt\n",
        "\n",
        "\n",
        "\n",
        "train_loss = history.history['loss']\n",
        "val_loss = history.history['val_loss']\n",
        "\n",
        "train_acc = history.history['accuracy']\n",
        "val_acc = history.history['val_accuracy']\n",
        "\n",
        "epochs = range(len(train_acc))\n",
        "\n",
        "plt.plot(epochs, train_loss, color=\"b\", label=\"train_loss\")\n",
        "plt.plot(epochs, val_loss, color=\"r\", label=\"valid_loss\")\n",
        "plt.title('Training and validation accuracy')\n",
        "plt.figure()\n",
        "\n",
        "plt.plot(epochs, train_acc, color=\"b\",label=\"train_acc\")\n",
        "plt.plot(epochs, val_acc, color=\"r\",label=\"valid_acc\")\n",
        "plt.title('Training and validation loss')\n",
        "\n",
        "plt.show()"
      ],
      "execution_count": 15,
      "outputs": [
        {
          "output_type": "display_data",
          "data": {
            "image/png": "[encoded data removed]",
            "text/plain": [
              "<Figure size 432x288 with 1 Axes>"
            ]
          },
          "metadata": {
            "tags": [],
            "needs_background": "light"
          }
        },
        {
          "output_type": "display_data",
          "data": {
            "image/png": "[encoded data removed]",
            "text/plain": [
              "<Figure size 432x288 with 1 Axes>"
            ]
          },
          "metadata": {
            "tags": [],
            "needs_background": "light"
          }
        }
      ]
    }
  ]
}