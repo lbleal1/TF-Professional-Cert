{
  "nbformat": 4,
  "nbformat_minor": 0,
  "metadata": {
    "colab": {
      "name": "ex4_csv_multiclass-signlangg.ipynb",
      "provenance": [],
      "collapsed_sections": [],
      "toc_visible": true
    },
    "kernelspec": {
      "display_name": "Python 3",
      "name": "python3"
    }
  },
  "cells": [
    {
      "cell_type": "code",
      "metadata": {
        "id": "zX4Kg8DUTKWO"
      },
      "source": [
        "#@title Licensed under the Apache License, Version 2.0 (the \"License\");\n",
        "# you may not use this file except in compliance with the License.\n",
        "# You may obtain a copy of the License at\n",
        "#\n",
        "# https://www.apache.org/licenses/LICENSE-2.0\n",
        "#\n",
        "# Unless required by applicable law or agreed to in writing, software\n",
        "# distributed under the License is distributed on an \"AS IS\" BASIS,\n",
        "# WITHOUT WARRANTIES OR CONDITIONS OF ANY KIND, either express or implied.\n",
        "# See the License for the specific language governing permissions and\n",
        "# limitations under the License."
      ],
      "execution_count": null,
      "outputs": []
    },
    {
      "cell_type": "code",
      "metadata": {
        "id": "wYtuKeK0dImp"
      },
      "source": [
        "import csv\n",
        "import numpy as np\n",
        "import tensorflow as tf\n",
        "from tensorflow import keras\n",
        "from tensorflow.keras.preprocessing.image import ImageDataGenerator\n",
        "from google.colab import files"
      ],
      "execution_count": 4,
      "outputs": []
    },
    {
      "cell_type": "code",
      "metadata": {
        "colab": {
          "base_uri": "https://localhost:8080/"
        },
        "id": "VykHT3VZR0NF",
        "outputId": "b5135b43-9122-4af4-bf88-3eb2d755322a"
      },
      "source": [
        "from google.colab import drive\n",
        "drive.mount('/content/drive')"
      ],
      "execution_count": 2,
      "outputs": [
        {
          "output_type": "stream",
          "text": [
            "Mounted at /content/drive\n"
          ],
          "name": "stdout"
        }
      ]
    },
    {
      "cell_type": "markdown",
      "metadata": {
        "id": "EmMyh9_mkDHF"
      },
      "source": [
        "The data for this exercise is available at: https://www.kaggle.com/datamunge/sign-language-mnist/home\n",
        "\n",
        "Sign up and download to find 2 CSV files: sign_mnist_test.csv and sign_mnist_train.csv -- You will upload both of them using this button before you can continue.\n"
      ]
    },
    {
      "cell_type": "markdown",
      "metadata": {
        "id": "ArfI54oyP-MV"
      },
      "source": [
        "# 1. Get Data and output arrays for labels and images"
      ]
    },
    {
      "cell_type": "code",
      "metadata": {
        "colab": {
          "base_uri": "https://localhost:8080/"
        },
        "id": "UP--QApeQcez",
        "outputId": "4d258cca-9b8f-4207-be7a-1d245a8f7b9e"
      },
      "source": [
        "def get_data(filename):\n",
        "  images=[]\n",
        "  labels=[]\n",
        "  with open(filename) as files:\n",
        "    csvfile = csv.reader(files, delimiter=',')\n",
        "    for row in csvfile:\n",
        "      label, image = np.split(row, [1])\n",
        "      \n",
        "      if label == 'label': # first rows are column headers\n",
        "        continue\n",
        "      \n",
        "      # must be an array and values should be not 'str' but int\n",
        "      label = np.array(label).astype(int)\n",
        "      image = np.array(image).astype(int)\n",
        "\n",
        "      image = np.reshape(image, (28,28)) \n",
        "      \n",
        "      labels.append(label)\n",
        "      images.append(image)\n",
        "  \n",
        "  # should return two arrays\n",
        "  labels = np.array(labels).ravel() # ravel - to return contiguous flattened array (27455,) and not (27455, 1)\n",
        "  images = np.array(images)\n",
        "  return images, labels\n",
        "\n",
        "training_images, training_labels = get_data('/content/drive/MyDrive/study/tf-specialization/course2_convnets/sign_mnist_train.csv')\n",
        "testing_images, testing_labels = get_data('/content/drive/MyDrive/study/tf-specialization/course2_convnets/sign_mnist_test.csv')\n",
        "\n",
        "# Keep these\n",
        "print(training_images.shape)\n",
        "print(training_labels.shape)\n",
        "print(testing_images.shape)\n",
        "print(testing_labels.shape)\n",
        "\n",
        "# Their output should be:\n",
        "# (27455, 28, 28)\n",
        "# (27455,)\n",
        "# (7172, 28, 28)\n",
        "# (7172,)"
      ],
      "execution_count": 2,
      "outputs": [
        {
          "output_type": "stream",
          "text": [
            "(27455, 28, 28)\n",
            "(27455,)\n",
            "(7172, 28, 28)\n",
            "(7172,)\n"
          ],
          "name": "stdout"
        }
      ]
    },
    {
      "cell_type": "markdown",
      "metadata": {
        "id": "B-aSruWAQH5b"
      },
      "source": [
        "# 2. Preprocessing"
      ]
    },
    {
      "cell_type": "code",
      "metadata": {
        "id": "awoqRpyZdQkD",
        "colab": {
          "base_uri": "https://localhost:8080/"
        },
        "outputId": "c88d8e64-8ddf-4a45-b64a-52524bc8fe3a"
      },
      "source": [
        "# In this section you will have to add another dimension to the data\n",
        "# So, for example, if your array is (10000, 28, 28)\n",
        "# You will need to make it (10000, 28, 28, 1)\n",
        "# Hint: np.expand_dims\n",
        "\n",
        "training_images = np.expand_dims(training_images, axis=3)\n",
        "testing_images = np.expand_dims(testing_images, axis=3)\n",
        "\n",
        "# Create an ImageDataGenerator and do Image Augmentation\n",
        "train_datagen = ImageDataGenerator(\n",
        "    rescale = 1./255,\n",
        "    rotation_range=40,\n",
        "    width_shift_range=0.2,\n",
        "    height_shift_range=0.2,\n",
        "    shear_range=0.2,\n",
        "    zoom_range=0.2,\n",
        "    horizontal_flip=True,\n",
        "    fill_mode='nearest'\n",
        ")\n",
        "train_generator = train_datagen.flow(\n",
        "    training_images,\n",
        "    training_labels,\n",
        "    batch_size = 289\n",
        ")\n",
        "\n",
        "\n",
        "validation_datagen = ImageDataGenerator(rescale=1./255)\n",
        "validation_generator = validation_datagen.flow(\n",
        "    testing_images,\n",
        "    testing_labels,\n",
        "    batch_size = 163\n",
        ")\n",
        "    \n",
        "# Keep These\n",
        "print(training_images.shape)\n",
        "print(testing_images.shape)\n",
        "    \n",
        "# Their output should be:\n",
        "# (27455, 28, 28, 1)\n",
        "# (7172, 28, 28, 1)"
      ],
      "execution_count": 3,
      "outputs": [
        {
          "output_type": "stream",
          "text": [
            "(27455, 28, 28, 1)\n",
            "(7172, 28, 28, 1)\n"
          ],
          "name": "stdout"
        }
      ]
    },
    {
      "cell_type": "markdown",
      "metadata": {
        "id": "-vPPKHaEQKFw"
      },
      "source": [
        "# 3. Model"
      ]
    },
    {
      "cell_type": "code",
      "metadata": {
        "colab": {
          "base_uri": "https://localhost:8080/"
        },
        "id": "v1fEpfkZVzr1",
        "outputId": "9e23bfad-f04b-4b8d-d825-d8a07660fc7b"
      },
      "source": [
        "# how many classes?\n",
        "\n",
        "lab = training_labels.tolist() # convert each array to one list\n",
        "list(set(lab)) # there's NO #9??????"
      ],
      "execution_count": 13,
      "outputs": [
        {
          "output_type": "execute_result",
          "data": {
            "text/plain": [
              "[0,\n",
              " 1,\n",
              " 2,\n",
              " 3,\n",
              " 4,\n",
              " 5,\n",
              " 6,\n",
              " 7,\n",
              " 8,\n",
              " 10,\n",
              " 11,\n",
              " 12,\n",
              " 13,\n",
              " 14,\n",
              " 15,\n",
              " 16,\n",
              " 17,\n",
              " 18,\n",
              " 19,\n",
              " 20,\n",
              " 21,\n",
              " 22,\n",
              " 23,\n",
              " 24]"
            ]
          },
          "metadata": {
            "tags": []
          },
          "execution_count": 13
        }
      ]
    },
    {
      "cell_type": "code",
      "metadata": {
        "id": "Rmb7S32cgRqS",
        "colab": {
          "base_uri": "https://localhost:8080/"
        },
        "outputId": "8c1c514c-8ce6-42fb-d0ad-6ec2648198bf"
      },
      "source": [
        "# Define the model\n",
        "# Use no more than 2 Conv2D and 2 MaxPooling2D\n",
        "model = tf.keras.models.Sequential([  \n",
        "    keras.layers.Conv2D(32, (3,3), activation=\"relu\", input_shape=(28,28,1)),\n",
        "    keras.layers.MaxPool2D(2,2),\n",
        "    keras.layers.Conv2D(64, (3,3), activation=\"relu\"),\n",
        "    keras.layers.MaxPool2D(2,2),\n",
        "\n",
        "    keras.layers.Flatten(),\n",
        "    keras.layers.Dense(512, activation=\"relu\"),\n",
        "    keras.layers.Dense(len(set(training_labels.tolist())) + 1, activation=\"softmax\")    \n",
        "])\n",
        "# len(set(training_labels.tolist())) + 1 = 25 classes\n",
        "# len(set(training_labels.tolist())) this returns 24 but the classes are 0-24 without 9\n",
        "# so the range of the classes is still 25 since it's range is from 0 to 24\n",
        "\n",
        "# Compile Model. \n",
        "model.compile( loss = \"sparse_categorical_crossentropy\", optimizer=\"rmsprop\", metrics=[\"accuracy\"])\n",
        "\n",
        "# Train the Model\n",
        "history = model.fit(\n",
        "    train_generator,\n",
        "    epochs=10,\n",
        "    steps_per_epoch = len(training_labels)/289,\n",
        "    validation_data = validation_generator,\n",
        "    validation_steps = len(testing_labels)/163\n",
        ")\n",
        "\n",
        "model.evaluate(testing_images, testing_labels)\n",
        "    \n",
        "# The output from model.evaluate should be close to:\n",
        "#[6.92426086682151, 0.56609035]\n"
      ],
      "execution_count": 16,
      "outputs": [
        {
          "output_type": "stream",
          "text": [
            "Epoch 1/10\n",
            "95/95 [==============================] - 29s 303ms/step - loss: 3.0188 - accuracy: 0.1026 - val_loss: 2.5856 - val_accuracy: 0.2520\n",
            "Epoch 2/10\n",
            "95/95 [==============================] - 29s 303ms/step - loss: 2.7137 - accuracy: 0.1901 - val_loss: 2.0859 - val_accuracy: 0.3974\n",
            "Epoch 3/10\n",
            "95/95 [==============================] - 29s 304ms/step - loss: 2.4679 - accuracy: 0.2541 - val_loss: 1.9656 - val_accuracy: 0.3967\n",
            "Epoch 4/10\n",
            "95/95 [==============================] - 29s 304ms/step - loss: 2.2514 - accuracy: 0.3133 - val_loss: 1.5149 - val_accuracy: 0.5675\n",
            "Epoch 5/10\n",
            "95/95 [==============================] - 29s 304ms/step - loss: 2.0688 - accuracy: 0.3661 - val_loss: 1.8162 - val_accuracy: 0.3862\n",
            "Epoch 6/10\n",
            "95/95 [==============================] - 29s 303ms/step - loss: 1.8942 - accuracy: 0.4134 - val_loss: 1.5300 - val_accuracy: 0.4820\n",
            "Epoch 7/10\n",
            "95/95 [==============================] - 29s 303ms/step - loss: 1.7339 - accuracy: 0.4553 - val_loss: 1.3353 - val_accuracy: 0.5562\n",
            "Epoch 8/10\n",
            "95/95 [==============================] - 29s 305ms/step - loss: 1.6017 - accuracy: 0.4952 - val_loss: 0.9507 - val_accuracy: 0.6815\n",
            "Epoch 9/10\n",
            "95/95 [==============================] - 29s 303ms/step - loss: 1.4829 - accuracy: 0.5323 - val_loss: 1.2042 - val_accuracy: 0.6244\n",
            "Epoch 10/10\n",
            "95/95 [==============================] - 29s 303ms/step - loss: 1.3607 - accuracy: 0.5676 - val_loss: 0.8109 - val_accuracy: 0.7213\n",
            "225/225 [==============================] - 3s 11ms/step - loss: 163.2754 - accuracy: 0.5086\n"
          ],
          "name": "stdout"
        },
        {
          "output_type": "execute_result",
          "data": {
            "text/plain": [
              "[163.27542114257812, 0.508644700050354]"
            ]
          },
          "metadata": {
            "tags": []
          },
          "execution_count": 16
        }
      ]
    },
    {
      "cell_type": "markdown",
      "metadata": {
        "id": "_NkS-m-zQOYw"
      },
      "source": [
        "# 4. Plot Loss and Accuracy"
      ]
    },
    {
      "cell_type": "code",
      "metadata": {
        "id": "_Q3Zpr46dsij",
        "colab": {
          "base_uri": "https://localhost:8080/",
          "height": 544
        },
        "outputId": "c8d9b376-50fb-4319-edb7-22e2807f2305"
      },
      "source": [
        "# Plot the chart for accuracy and loss on both training and validation\n",
        "\n",
        "import matplotlib.pyplot as plt\n",
        "acc = history.history[\"accuracy\"]\n",
        "val_acc = history.history[\"val_accuracy\"]\n",
        "loss = history.history[\"loss\"]\n",
        "val_loss = history.history[\"val_loss\"]\n",
        "\n",
        "epochs = range(len(acc))\n",
        "\n",
        "plt.plot(epochs, acc, 'r', label='Training accuracy')\n",
        "plt.plot(epochs, val_acc, 'b', label='Validation accuracy')\n",
        "plt.title('Training and validation accuracy')\n",
        "plt.legend()\n",
        "plt.figure()\n",
        "\n",
        "plt.plot(epochs, loss, 'r', label='Training Loss')\n",
        "plt.plot(epochs, val_loss, 'b', label='Validation Loss')\n",
        "plt.title('Training and validation loss')\n",
        "plt.legend()\n",
        "\n",
        "plt.show()"
      ],
      "execution_count": 17,
      "outputs": [
        {
          "output_type": "display_data",
          "data": {
            "image/png": "[encoded data removed]",
            "text/plain": [
              "<Figure size 432x288 with 1 Axes>"
            ]
          },
          "metadata": {
            "tags": [],
            "needs_background": "light"
          }
        },
        {
          "output_type": "display_data",
          "data": {
            "image/png": "[encoded data removed]",
            "text/plain": [
              "<Figure size 432x288 with 1 Axes>"
            ]
          },
          "metadata": {
            "tags": [],
            "needs_background": "light"
          }
        }
      ]
    }
  ]
}